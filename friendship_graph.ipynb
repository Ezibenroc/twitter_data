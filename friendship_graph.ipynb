{
 "cells": [
  {
   "cell_type": "code",
   "execution_count": 1,
   "metadata": {},
   "outputs": [
    {
     "name": "stdout",
     "output_type": "stream",
     "text": [
      "53545 nodes with 206616 edges\n"
     ]
    },
    {
     "data": {
      "text/html": [
       "<div>\n",
       "<style scoped>\n",
       "    .dataframe tbody tr th:only-of-type {\n",
       "        vertical-align: middle;\n",
       "    }\n",
       "\n",
       "    .dataframe tbody tr th {\n",
       "        vertical-align: top;\n",
       "    }\n",
       "\n",
       "    .dataframe thead th {\n",
       "        text-align: right;\n",
       "    }\n",
       "</style>\n",
       "<table border=\"1\" class=\"dataframe\">\n",
       "  <thead>\n",
       "    <tr style=\"text-align: right;\">\n",
       "      <th></th>\n",
       "      <th>follower</th>\n",
       "      <th>followed</th>\n",
       "    </tr>\n",
       "  </thead>\n",
       "  <tbody>\n",
       "    <tr>\n",
       "      <th>0</th>\n",
       "      <td>1087614352021221376</td>\n",
       "      <td>1094637744754704384</td>\n",
       "    </tr>\n",
       "    <tr>\n",
       "      <th>1</th>\n",
       "      <td>1233481543789793282</td>\n",
       "      <td>1094637744754704384</td>\n",
       "    </tr>\n",
       "    <tr>\n",
       "      <th>2</th>\n",
       "      <td>1230240450184957955</td>\n",
       "      <td>1094637744754704384</td>\n",
       "    </tr>\n",
       "    <tr>\n",
       "      <th>3</th>\n",
       "      <td>1094658142988849154</td>\n",
       "      <td>1094637744754704384</td>\n",
       "    </tr>\n",
       "    <tr>\n",
       "      <th>4</th>\n",
       "      <td>15727047</td>\n",
       "      <td>1094637744754704384</td>\n",
       "    </tr>\n",
       "  </tbody>\n",
       "</table>\n",
       "</div>"
      ],
      "text/plain": [
       "              follower             followed\n",
       "0  1087614352021221376  1094637744754704384\n",
       "1  1233481543789793282  1094637744754704384\n",
       "2  1230240450184957955  1094637744754704384\n",
       "3  1094658142988849154  1094637744754704384\n",
       "4             15727047  1094637744754704384"
      ]
     },
     "execution_count": 1,
     "metadata": {},
     "output_type": "execute_result"
    }
   ],
   "source": [
    "import pandas\n",
    "\n",
    "edges = pandas.read_csv('community.csv')\n",
    "print(f'{len(edges.follower.unique())} nodes with {len(edges)} edges')\n",
    "edges.head()"
   ]
  },
  {
   "cell_type": "code",
   "execution_count": 2,
   "metadata": {},
   "outputs": [
    {
     "data": {
      "text/plain": [
       "{1094637744754704384: '#00c000',\n",
       " 1179020855323615233: '#ff8080',\n",
       " 1185172762287132672: '#ffb400',\n",
       " 1222415322269044741: '#bb0000',\n",
       " 722010413672636416: '#0066CC',\n",
       " 101776273: '#ff8080',\n",
       " 1436327000: '#ffb400',\n",
       " 1137353412: '#00c000',\n",
       " 2828047772: '#0D378A'}"
      ]
     },
     "execution_count": 2,
     "metadata": {},
     "output_type": "execute_result"
    }
   ],
   "source": [
    "id_to_login = {\n",
    "    1094637744754704384: 'Grenoble_Commun',\n",
    "    1179020855323615233: 'GrenobleNvAir',\n",
    "    1185172762287132672: 'Chalas2020',\n",
    "    1222415322269044741: 'CommuneEstANous',\n",
    "    722010413672636416: 'CarignonAlain',\n",
    "    101776273: 'onoblecourt',\n",
    "    1436327000: 'EmilieCChalas',\n",
    "    1137353412: 'EricPiolle',\n",
    "    2828047772: 'MireilledOrnano'\n",
    "}\n",
    "users = {\n",
    "    'EricPiolle': 'Grenoble en Commun',\n",
    "    'Grenoble_Commun': 'Grenoble en Commun',\n",
    "    'EmilieCChalas': 'Un Nouveau Regard sur Grenoble',\n",
    "    'Chalas2020': 'Un Nouveau Regard sur Grenoble',\n",
    "    'CarignonAlain': 'Grenoble le Changement',\n",
    "    'onoblecourt': 'Grenoble Nouvel Air',\n",
    "    'GrenobleNvAir': 'Grenoble Nouvel Air',\n",
    "    'CommuneEstANous': 'La commune est à nous !',\n",
    "    'MireilledOrnano': 'Mieux vivre à Grenoble',\n",
    "}\n",
    "names = {\n",
    "    'EricPiolle': 'Éric Piolle',\n",
    "    'EmilieCChalas': 'Emilie Chalas',\n",
    "    'CarignonAlain': 'Alain Carignon',\n",
    "    'onoblecourt': 'Olivier Noblecourt',\n",
    "    'Grenoble_Commun': 'Grenoble en Commun',\n",
    "    'Chalas2020': 'Un Nouveau Regard sur Grenoble',\n",
    "    'GrenobleNvAir': 'Grenoble Nouvel Air',\n",
    "    'CommuneEstANous': 'La commune est à nous !',\n",
    "    'MireilledOrnano': \"Mireille d'Ornano\",\n",
    "}\n",
    "colors = {\n",
    "    'Grenoble en Commun': '#00c000',\n",
    "    'Un Nouveau Regard sur Grenoble': '#ffb400',\n",
    "    'Grenoble le Changement': '#0066CC',\n",
    "    'Grenoble Nouvel Air': '#ff8080',\n",
    "    'La commune est à nous !': '#bb0000',\n",
    "    'Mieux vivre à Grenoble': '#0D378A'\n",
    "}\n",
    "color2 = {usr_id: colors[users[login]] for usr_id, login in id_to_login.items()}\n",
    "color2"
   ]
  },
  {
   "cell_type": "code",
   "execution_count": null,
   "metadata": {},
   "outputs": [],
   "source": [
    "import matplotlib as mpl\n",
    "import matplotlib.pyplot as plt\n",
    "import networkx as nx\n",
    "\n",
    "G = nx.DiGraph()\n",
    "G.add_edges_from([e for _, e in edges.iterrows()])\n",
    "print(f'{len(G)} nodes with {len(G.edges)} edges')"
   ]
  },
  {
   "cell_type": "code",
   "execution_count": null,
   "metadata": {},
   "outputs": [],
   "source": [
    "mutuals = G.to_undirected(reciprocal=True)\n",
    "print(f'{len(mutuals)} nodes with {len(mutuals.edges)} edges')"
   ]
  },
  {
   "cell_type": "code",
   "execution_count": null,
   "metadata": {},
   "outputs": [],
   "source": [
    "def trim_degrees(g, degree=1):\n",
    "    g = g.copy()\n",
    "    low_degrees = [node for node, deg in g.degree() if deg < degree]\n",
    "    print(f'Removing {len(low_degrees)} nodes')\n",
    "    g.remove_nodes_from(low_degrees)\n",
    "    return g"
   ]
  },
  {
   "cell_type": "code",
   "execution_count": null,
   "metadata": {},
   "outputs": [],
   "source": [
    "def rec_trim(g, degree, n):\n",
    "    if n == 0 or degree == 0:\n",
    "        return g\n",
    "    else:\n",
    "        trimed = trim_degrees(g, degree)\n",
    "        if len(trimed) == len(g):\n",
    "            return trimed\n",
    "        return rec_trim(trimed, degree, n-1)"
   ]
  },
  {
   "cell_type": "code",
   "execution_count": null,
   "metadata": {},
   "outputs": [],
   "source": [
    "pruned = rec_trim(mutuals, degree=7, n=20)\n",
    "print(f'{len(pruned)} nodes with {len(pruned.edges)} edges')"
   ]
  },
  {
   "cell_type": "code",
   "execution_count": null,
   "metadata": {},
   "outputs": [],
   "source": [
    "def build_basic_communities(graph):\n",
    "    communities = {}\n",
    "    for node in graph:\n",
    "        if node in id_to_login:\n",
    "            continue\n",
    "        commu = None\n",
    "        for other in id_to_login:\n",
    "            if (node, other) in graph.edges:\n",
    "                pos_commu = color2[other]\n",
    "                if commu is None:\n",
    "                    commu = pos_commu\n",
    "                elif commu != pos_commu:\n",
    "                    commu = '#000000'\n",
    "        if commu is None:  # possible if the node is followed by one of the candidates but does not follow them\n",
    "            commu = '#000000'\n",
    "        communities[node] = commu\n",
    "    return communities\n",
    "\n",
    "communities = build_basic_communities(G)"
   ]
  },
  {
   "cell_type": "code",
   "execution_count": null,
   "metadata": {},
   "outputs": [],
   "source": [
    "print(len([col for col in communities.values() if col == '#000000']))\n",
    "print(len([col for col in communities.values() if col != '#000000']))"
   ]
  },
  {
   "cell_type": "code",
   "execution_count": null,
   "metadata": {},
   "outputs": [],
   "source": [
    "pos = nx.spring_layout(pruned, k=0.5, iterations=1000)  # compute graph layout\n",
    "plt.figure(figsize=(16, 16))\n",
    "plt.axis('off')\n",
    "main_nodes = list(id_to_login)\n",
    "main_colors = list(color2[node] for node in main_nodes)\n",
    "other_nodes = list(set(pruned)-set(main_nodes))\n",
    "other_colors = [communities[node] for node in other_nodes]\n",
    "nx.draw_networkx_nodes(other_nodes, pos, node_size=100, node_color=other_colors)#, cmap=plt.cm.RdYlBu, node_color=list(partition.values()))\n",
    "nx.draw_networkx_nodes(main_nodes, pos, node_size=600, node_color=main_colors)\n",
    "nx.draw_networkx_edges(pruned, pos, alpha=0.3)\n",
    "plt.show(pruned)"
   ]
  }
 ],
 "metadata": {
  "kernelspec": {
   "display_name": "Python 3",
   "language": "python",
   "name": "python3"
  },
  "language_info": {
   "codemirror_mode": {
    "name": "ipython",
    "version": 3
   },
   "file_extension": ".py",
   "mimetype": "text/x-python",
   "name": "python",
   "nbconvert_exporter": "python",
   "pygments_lexer": "ipython3",
   "version": "3.7.3"
  }
 },
 "nbformat": 4,
 "nbformat_minor": 4
}
